{
  "nbformat": 4,
  "nbformat_minor": 0,
  "metadata": {
    "colab": {
      "provenance": [],
      "authorship_tag": "ABX9TyODMcHhYBkI+0uEPP/RAS85",
      "include_colab_link": true
    },
    "kernelspec": {
      "name": "python3",
      "display_name": "Python 3"
    },
    "language_info": {
      "name": "python"
    }
  },
  "cells": [
    {
      "cell_type": "markdown",
      "metadata": {
        "id": "view-in-github",
        "colab_type": "text"
      },
      "source": [
        "<a href=\"https://colab.research.google.com/github/asliddinchoriev87/Deep_learning_models/blob/main/Loan_decision.ipynb\" target=\"_parent\"><img src=\"https://colab.research.google.com/assets/colab-badge.svg\" alt=\"Open In Colab\"/></a>"
      ]
    },
    {
      "cell_type": "code",
      "execution_count": null,
      "metadata": {
        "id": "D_2SM_JTKV5O"
      },
      "outputs": [],
      "source": [
        "from fastai.tabular.all import *\n",
        "\n",
        "# path\n",
        "path = Path('.')"
      ]
    },
    {
      "cell_type": "code",
      "source": [
        "# dataloaders\n",
        "dls = TabularDataLoaders.from_csv(path/'Loan_Default.csv', path=path, bs=64, y_names='Status',\n",
        "                                  cat_names=['loan_limit', 'Gender', 'approv_in_adv', 'loan_type', 'loan_purpose', 'Credit_Worthiness', 'open_credit', 'business_or_commercial', 'interest_only', 'lump_sum_payment', 'co-applicant_credit_type', 'submission_of_application', 'Region'],\n",
        "                                  cont_names=['loan_amount', 'rate_of_interest', 'Interest_rate_spread', 'Upfront_charges', 'term', 'property_value', 'income', 'Credit_Score',  'LTV', 'dtir1'],\n",
        "                                  procs=[Categorify, FillMissing, Normalize])"
      ],
      "metadata": {
        "id": "beq9JSpwSq7L"
      },
      "execution_count": null,
      "outputs": []
    },
    {
      "cell_type": "code",
      "source": [
        "# train\n",
        "learn = tabular_learner(dls, metrics=accuracy)"
      ],
      "metadata": {
        "id": "r9k-PoMLSqtz"
      },
      "execution_count": null,
      "outputs": []
    },
    {
      "cell_type": "code",
      "source": [
        "learn.fit_one_cycle(2)"
      ],
      "metadata": {
        "id": "tNZ1dJ68SvAC"
      },
      "execution_count": null,
      "outputs": []
    },
    {
      "cell_type": "code",
      "source": [
        "learn.show_results(max_n=64)"
      ],
      "metadata": {
        "id": "R5dT3YdoSjJi"
      },
      "execution_count": null,
      "outputs": []
    }
  ]
}