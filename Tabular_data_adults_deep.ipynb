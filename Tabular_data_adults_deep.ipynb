{
  "nbformat": 4,
  "nbformat_minor": 0,
  "metadata": {
    "colab": {
      "provenance": [],
      "authorship_tag": "ABX9TyNdHyD3IAvdsRkOukNMhjeh",
      "include_colab_link": true
    },
    "kernelspec": {
      "name": "python3",
      "display_name": "Python 3"
    },
    "language_info": {
      "name": "python"
    }
  },
  "cells": [
    {
      "cell_type": "markdown",
      "metadata": {
        "id": "view-in-github",
        "colab_type": "text"
      },
      "source": [
        "<a href=\"https://colab.research.google.com/github/asliddinchoriev87/Deep_learning_models/blob/main/Tabular_data_adults_deep.ipynb\" target=\"_parent\"><img src=\"https://colab.research.google.com/assets/colab-badge.svg\" alt=\"Open In Colab\"/></a>"
      ]
    },
    {
      "cell_type": "code",
      "execution_count": null,
      "metadata": {
        "id": "nDCebwZ7HSAP"
      },
      "outputs": [],
      "source": [
        "from fastai.tabular.all import *\n",
        "\n",
        "# dataset\n",
        "path = untar_data(URLs.ADULT_SAMPLE)\n",
        "\n",
        "# dataloaders\n",
        "dls = TabularDataLoaders.from_csv(path/'adult.csv', path=path, bs=64, y_names='salary', skipinitialspace=False,\n",
        "                                  cat_names=['workclass', 'education', 'marital-status', 'occupation', 'relationship', 'race', 'sex'],\n",
        "                                  cont_names= ['age', 'fnlwgt', 'education-num', 'capital-gain', 'capital-loss', 'hours-per-week'],\n",
        "                                  procs = [Categorify, FillMissing, Normalize])\n",
        "\n",
        "# train\n",
        "learn = tabular_learner(dls, metrics=accuracy)\n",
        "# fit_one_cycle\n",
        "learn.fit_one_cycle(4)"
      ]
    },
    {
      "cell_type": "code",
      "source": [
        "import pandas as pd\n",
        "\n",
        "# loading data set into dataframe\n",
        "df = pd.read_csv(path/'adult.csv')\n",
        "df.head()"
      ],
      "metadata": {
        "id": "ObVIvVDuHjjJ"
      },
      "execution_count": null,
      "outputs": []
    },
    {
      "cell_type": "code",
      "source": [
        "# test\n",
        "row, pred, probs = learn.predict(df.iloc[4])\n",
        "pred.item(), probs"
      ],
      "metadata": {
        "id": "9LWFVIt3Hov3"
      },
      "execution_count": null,
      "outputs": []
    }
  ]
}